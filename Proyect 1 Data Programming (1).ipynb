{
 "cells": [
  {
   "cell_type": "code",
   "execution_count": 64,
   "id": "3645f652-556b-4817-97f5-4a800484fe60",
   "metadata": {},
   "outputs": [
    {
     "name": "stdout",
     "output_type": "stream",
     "text": [
      "5 <class 'int'>\n",
      "5.0 <class 'float'>\n",
      "True <class 'bool'>\n",
      "5 <class 'str'>\n",
      "10 <class 'int'>\n",
      "55 <class 'str'>\n",
      "52 <class 'str'>\n",
      "2.5 <class 'float'>\n",
      "1 <class 'int'>\n",
      "{1, 2, 5} <class 'type'>\n",
      "False <class 'bool'>\n",
      "3.141592653589793 <class 'float'>\n"
     ]
    }
   ],
   "source": [
    "#1\n",
    "# a. Integer\n",
    "entero = 5\n",
    "print(entero, type(entero))\n",
    "\n",
    "# b. Float\n",
    "decimal = 5.0\n",
    "print(decimal, type(decimal))\n",
    "\n",
    "# c. Boolean\n",
    "boolean = 5 > 1\n",
    "print(boolean, type(boolean))\n",
    "\n",
    "# d. String\n",
    "cadena = '5'\n",
    "print(cadena, type(cadena))\n",
    "\n",
    "# e. Integer multiplication\n",
    "producto = 5 * 2\n",
    "print(producto, type(producto))\n",
    "\n",
    "# f. String multiplication\n",
    "producto2 = '5' * 2\n",
    "print(producto2, type(producto2))\n",
    "\n",
    "# g. String concatenation\n",
    "cadenaconcat = '5' + '2'\n",
    "print(cadenaconcat, type(cadenaconcat))\n",
    "\n",
    "# h. Float division\n",
    "division = 5 / 2\n",
    "print(division, type(division))\n",
    "\n",
    "# i. Integer modulus\n",
    "residuo = 5 % 2\n",
    "print(residuo, type(residuo))\n",
    "\n",
    "# j. Set\n",
    "conjunto = {5, 2, 1}\n",
    "print(conjunto, type(set))\n",
    "\n",
    "# k. Boolean relation\n",
    "boolean2 = 5 == 3\n",
    "print(boolean2, type(boolean2))\n",
    "\n",
    "# l. Pi\n",
    "import math\n",
    "valorpi = math.pi\n",
    "print(valorpi, type(valorpi))"
   ]
  },
  {
   "cell_type": "code",
   "execution_count": 2,
   "id": "a108da7a-1fa9-4dc9-8cb0-cfc29b979e28",
   "metadata": {},
   "outputs": [
    {
     "data": {
      "text/plain": [
       "34"
      ]
     },
     "execution_count": 2,
     "metadata": {},
     "output_type": "execute_result"
    }
   ],
   "source": [
    "# 2.a) Number of letters in 'Supercalifragilisticexpialidocious'\n",
    "pal1 = 'Supercalifragilisticexpialidocious'\n",
    "letter_count = len(pal1)\n",
    "letter_count"
   ]
  },
  {
   "cell_type": "code",
   "execution_count": 4,
   "id": "1b0d0e60-b324-48de-ad03-22e2a80a637e",
   "metadata": {},
   "outputs": [
    {
     "data": {
      "text/plain": [
       "True"
      ]
     },
     "execution_count": 4,
     "metadata": {},
     "output_type": "execute_result"
    }
   ],
   "source": [
    "# 2.b) 'ice' in the word\n",
    "pal1 = 'Supercalifragilisticexpialidocious'\n",
    "contains = 'ice' in pal1\n",
    "contains\n"
   ]
  },
  {
   "cell_type": "code",
   "execution_count": 8,
   "id": "962f8bdb-a915-4d1d-91e4-9ddd8edb9a03",
   "metadata": {},
   "outputs": [
    {
     "data": {
      "text/plain": [
       "'Supercalifragilisticexpialidocious'"
      ]
     },
     "execution_count": 8,
     "metadata": {},
     "output_type": "execute_result"
    }
   ],
   "source": [
    "# 2c.) longest word in the three above\n",
    "pal3 = [\n",
    "    'Supercalifragilisticexpialidocious',\n",
    "    'Honorificabilitudinitatibus',\n",
    "    'Bababadalgharaghtakamminarronnkonn'\n",
    "]\n",
    "maslarga = max(pal3, key=len)\n",
    "maslarga"
   ]
  },
  {
   "cell_type": "code",
   "execution_count": 156,
   "id": "d70bb591-d025-4969-995e-09878e60e7b4",
   "metadata": {},
   "outputs": [
    {
     "data": {
      "text/plain": [
       "('Bartok', 'Buxtehude')"
      ]
     },
     "execution_count": 156,
     "metadata": {},
     "output_type": "execute_result"
    }
   ],
   "source": [
    "#2d) First and last word in the dictionary\n",
    "pal4 = ['Berlioz', 'Borodin', 'Brian', 'Bartok', 'Bellini', 'Buxtehude', 'Bernstein']\n",
    "palabracorta = min(pal4)\n",
    "palabralarga = max(pal4)\n",
    "(palabracorta, palabralarga)"
   ]
  },
  {
   "cell_type": "code",
   "execution_count": 12,
   "id": "43df09af-f55c-45eb-8c88-b6c2b7cf6d4b",
   "metadata": {},
   "outputs": [
    {
     "name": "stdout",
     "output_type": "stream",
     "text": [
      "1.7320508075688772\n"
     ]
    }
   ],
   "source": [
    "#3. Triangle area, firstly, we import 'math'\n",
    "import math\n",
    "# We define the sides of the triangle,using the function triangleArea\n",
    "def triangleArea(a, b, c):\n",
    "    # Specifying the semipermieter s \n",
    "    s = (a + b + c) / 2\n",
    "    #Using Heron's formula\n",
    "    trianglearea = math.sqrt(s * (s - a) * (s - b) * (s - c))\n",
    "    return trianglearea\n",
    "# Example with the values of the Problem set\n",
    "print(triangleArea(2, 2, 2))\n"
   ]
  },
  {
   "cell_type": "code",
   "execution_count": 158,
   "id": "1d121da9-d8cd-4652-9627-40c670e9f9c8",
   "metadata": {},
   "outputs": [
    {
     "name": "stdin",
     "output_type": "stream",
     "text": [
      "Enter the amount of numbers for the array:  5\n",
      "number- 0 :  25\n",
      "number- 1 :  47\n",
      "number- 2 :  42\n",
      "number- 3 :  56\n",
      "number- 4 :  32\n"
     ]
    },
    {
     "name": "stdout",
     "output_type": "stream",
     "text": [
      "The Even numbers are:\n",
      "42 56 32\n",
      "The Odd numbers are:\n",
      "25 47\n"
     ]
    }
   ],
   "source": [
    "4. # Define the fnction to separate odd and even numbers\n",
    "def separate_impar_par():\n",
    "    # Enter the quantity of numbers in the array\n",
    "    n = int(input(\"Enter the amount of numbers for the array: \"))\n",
    "    \n",
    "    # Blank arrays\n",
    "    par_numbers = []\n",
    "    impar_numbers = []\n",
    "    \n",
    "    # Input process elements\n",
    "    for i in range(n):\n",
    "        number = int(input(f\"number- {i} : \"))\n",
    "        if number % 2 == 0:\n",
    "            par_numbers.append(number)\n",
    "        else:\n",
    "            impar_numbers.append(number)\n",
    "    \n",
    "    # Output process\n",
    "    print(\"The Even numbers are:\")\n",
    "    print(\" \".join(map(str, par_numbers)))\n",
    "    \n",
    "    print(\"The Odd numbers are:\")\n",
    "    print(\" \".join(map(str, impar_numbers)))\n",
    "\n",
    "# Call the function\n",
    "separate_impar_par()"
   ]
  },
  {
   "cell_type": "code",
   "execution_count": 32,
   "id": "41f4fdd6-6459-46e8-ad07-c80fac06e758",
   "metadata": {},
   "outputs": [
    {
     "name": "stdout",
     "output_type": "stream",
     "text": [
      "True\n",
      "False\n"
     ]
    }
   ],
   "source": [
    "# 5a. Checking if the entered values are within the limits\n",
    "def inside(x, y, x1, y1, x2, y2):\n",
    "    # Check if (x, y) is within the bounds of the created rectangle\n",
    "    return x1 <= x <= x2 and y1 <= y <= y2\n",
    "\n",
    "# Using an example\n",
    "print(inside(1, 1, 0, 0, 2, 3))  # Expected Output: True\n",
    "print(inside(-1, -1, 0, 0, 2, 3))  # Expected Output: False"
   ]
  },
  {
   "cell_type": "code",
   "execution_count": 40,
   "id": "b4584b79-1e4a-4f32-bebd-7c84dd1d3b60",
   "metadata": {},
   "outputs": [
    {
     "name": "stdout",
     "output_type": "stream",
     "text": [
      "Point (1, 1) in Rectangle 1: False\n",
      "Point (1, 1) in Rectangle 2: True\n"
     ]
    }
   ],
   "source": [
    "#5b. Checking if the entered values are within the limits\n",
    "\n",
    "def inside(x, y, x1, y1, x2, y2):\n",
    "    # Check if (x, y) is within the bounds of the created rectangle\n",
    "    return x1 <= x <= x2 and y1 <= y <= y2\n",
    "\n",
    "# Introducing the first point\n",
    "point = (1, 1)\n",
    "\n",
    "# Rectangulo1: lower left (0.3, 0.5), upper right (1.1, 0.7)\n",
    "rectangulo1 = (0.3, 0.5, 1.1, 0.7)\n",
    "\n",
    "# Rectangulo 2: lower left (0.5, 0.2), upper right (1.1, 2)\n",
    "rectangulo2 = (0.5, 0.2, 1.1, 2)\n",
    "\n",
    "# Test if the point lies in both rectangles\n",
    "rectangulo1_ubicacion = inside(point[0], point[1], 0.3, 0.5, 1.1, 0.7)\n",
    "rectangulo2_ubicacion = inside(point[0], point[1],0.5, 0.2, 1.1, 2)\n",
    "\n",
    "# Output results\n",
    "print(f\"Point {point} in Rectangle 1: {rectangulo1_ubicacion}\")  # Expected output: False\n",
    "print(f\"Point {point} in Rectangle 2: {rectangulo2_ubicacion}\")  # Expected output: True"
   ]
  },
  {
   "cell_type": "code",
   "execution_count": 44,
   "id": "53dfef33-a95c-4412-bda3-352226c39498",
   "metadata": {},
   "outputs": [
    {
     "name": "stdout",
     "output_type": "stream",
     "text": [
      "appyhay\n",
      "enterway\n"
     ]
    }
   ],
   "source": [
    "# 6. Latinform exercise\n",
    "def pig(pal4):\n",
    "    # Convert the word to lower case\n",
    "    pal4 = pal4.lower()\n",
    "    \n",
    "    # Is the first letter a vowel?\n",
    "    if pal4[0] in 'aeiou':\n",
    "        return pal4 + 'way'\n",
    "    else:\n",
    "        # Move the first letter to the end and append 'ay'\n",
    "        return pal4[1:] + pal4[0] + 'ay'\n",
    "\n",
    "# Using an example\n",
    "print(pig('happy'))  # Expexted Output: 'appyhay'\n",
    "print(pig('Enter'))  # Expected Output: 'enterway'"
   ]
  },
  {
   "cell_type": "code",
   "execution_count": 164,
   "id": "9a612a76-0a6c-4bb2-8eec-ccbf3c402b26",
   "metadata": {},
   "outputs": [
    {
     "name": "stdout",
     "output_type": "stream",
     "text": [
      "There are 15 patients of blood type A.\n",
      "There is one patient of blood type B.\n",
      "There are 13 patients of blood type AB.\n",
      "There are 15 patients of blood type O.\n",
      "There are no patients of blood type OO.\n"
     ]
    }
   ],
   "source": [
    "# 7. Count of patients depends their bloodtype\n",
    "#Define de function\n",
    "def bldcount():\n",
    "    # Reading the file \n",
    "    with open('bloodtype1.txt', 'r') as file:\n",
    "        content = file.read().strip().split()\n",
    "    \n",
    "    # Define blood types available in the file \n",
    "    tipos_de_sangre = ['A', 'B', 'AB', 'O', 'OO']\n",
    "    \n",
    "    # Count occurrences of each blood type\n",
    "    contando = {tipo_de_sangre: content.count(tipo_de_sangre) for tipo_de_sangre in tipos_de_sangre}\n",
    "    \n",
    "    # Print results\n",
    "    for tipo_de_sangre in tipos_de_sangre:\n",
    "        count = contando[tipo_de_sangre]\n",
    "        if count == 0:\n",
    "            print(f\"There are no patients of blood type {tipo_de_sangre}.\")\n",
    "        elif count == 1:\n",
    "            print(f\"There is one patient of blood type {tipo_de_sangre}.\")\n",
    "        else:\n",
    "            print(f\"There are {count} patients of blood type {tipo_de_sangre}.\")\n",
    "# Calling the function\n",
    "bldcount()\n"
   ]
  },
  {
   "cell_type": "code",
   "execution_count": 22,
   "id": "359ad266-a63a-4517-8863-e98c015a7d70",
   "metadata": {},
   "outputs": [
    {
     "name": "stdout",
     "output_type": "stream",
     "text": [
      "122.96544\n",
      "1.241401\n"
     ]
    }
   ],
   "source": [
    "#8 Convert Yen and Euros to Dollars\n",
    "def curconv(currency, amount):\n",
    "    # Open the file and read it\n",
    "    rates = {}\n",
    "    \n",
    "    with open('currencies.txt', 'r') as file:\n",
    "        for line in file:\n",
    "            parts = line.split()\n",
    "            if len(parts) >= 2:\n",
    "                # First three letters currency name, number on the right is the rate\n",
    "                code = parts[0]\n",
    "                rate = float(parts[1])\n",
    "                rates[code] = rate\n",
    "\n",
    "    # Check if the currency is listed in the file\n",
    "    if currency in rates:\n",
    "        # Convert the currency to US dollars amount\n",
    "        return amount * rates[currency]\n",
    "    else:\n",
    "        print(\"Currency not found\")\n",
    "\n",
    "# Using an example:\n",
    "print(curconv('EUR', 100))  # Hopefully print 122.96544\n",
    "print(curconv('JPY', 100)) # Hopefully print 1.241401"
   ]
  },
  {
   "cell_type": "code",
   "execution_count": 26,
   "id": "7381e402-c91a-42a4-8bbc-f859d89a5de5",
   "metadata": {},
   "outputs": [
    {
     "name": "stdout",
     "output_type": "stream",
     "text": [
      "Here we have an error: unsupported operand type(s) for +: 'int' and 'str'\n"
     ]
    }
   ],
   "source": [
    "# 9. Type of error\n",
    "# Incompatible variables \n",
    "try:\n",
    "    result = 6 + 'a'\n",
    "except TypeError as exception:\n",
    "    print(\"Here we have an error:\", exception)"
   ]
  },
  {
   "cell_type": "code",
   "execution_count": 30,
   "id": "1e6d070d-49d8-498a-abc2-d7e307d250da",
   "metadata": {},
   "outputs": [
    {
     "name": "stdout",
     "output_type": "stream",
     "text": [
      "Here we have an error: list index out of range\n"
     ]
    }
   ],
   "source": [
    "#More items\n",
    "numeros = [1, 2, 3, 4, 5, 6, 7, 8, 9, 10]\n",
    "try:\n",
    "    item = numeros[11]  # Index 11 does not exist\n",
    "except IndexError as exception:\n",
    "    print(\"Here we have an error:\", exception)"
   ]
  },
  {
   "cell_type": "code",
   "execution_count": 42,
   "id": "03ea9d23-109a-45bc-b9c8-7a1ddca100a1",
   "metadata": {},
   "outputs": [
    {
     "name": "stdout",
     "output_type": "stream",
     "text": [
      "Here we have an error: math domain error\n"
     ]
    }
   ],
   "source": [
    "# Range imput function\n",
    "import math\n",
    "try:\n",
    "    resultado = math.sqrt(-1.0)  # It is impossible to get the sqaure root of a negative number\n",
    "except ValueError as exception:\n",
    "    print(\"Here we have an error:\", exception)"
   ]
  },
  {
   "cell_type": "code",
   "execution_count": 44,
   "id": "03c7adfc-95dd-4e73-a1ff-4bfbb1e694e6",
   "metadata": {},
   "outputs": [
    {
     "name": "stdout",
     "output_type": "stream",
     "text": [
      "Here we have an error: name 'x' is not defined\n"
     ]
    }
   ],
   "source": [
    "# Undeclared variable\n",
    "try:\n",
    "    print(x)  # x has not been declared\n",
    "except NameError as exception:\n",
    "    print(\"Here we have an error:\", exception)"
   ]
  },
  {
   "cell_type": "code",
   "execution_count": 48,
   "id": "c1be4454-1b42-40fa-ab9d-6893fc401543",
   "metadata": {},
   "outputs": [
    {
     "name": "stdout",
     "output_type": "stream",
     "text": [
      "Here we have an error: [Errno 2] No such file or directory: 'noseencuentra.txt'\n"
     ]
    }
   ],
   "source": [
    "try:\n",
    "    with open('noseencuentra.txt', 'r') as file:\n",
    "        content = file.read()\n",
    "except FileNotFoundError as exception:\n",
    "    print(\"Here we have an error:\", exception)"
   ]
  },
  {
   "cell_type": "code",
   "execution_count": 58,
   "id": "3d998f9e-b262-44f1-b25c-20b2af3d1d8b",
   "metadata": {},
   "outputs": [
    {
     "name": "stdout",
     "output_type": "stream",
     "text": [
      "[1, 1, 1, 3, 5, 1, 1, 2, 1, 0, 1, 0, 1, 2, 4, 0, 1, 2, 0, 3, 1, 0, 1, 1, 0, 0]\n",
      "[1, 0, 0, 0, 1, 0, 0, 0, 0, 0, 0, 1, 0, 0, 0, 2, 0, 0, 0, 0, 0, 0, 0, 0, 0, 0]\n"
     ]
    }
   ],
   "source": [
    "#10. Encryption exercise\n",
    "def frequencies(text):\n",
    "    abecedario = 'abcdefghijklmnopqrstuvwxyz'\n",
    "    frecuencia = [0] * 26  # Putting 26  0s initially\n",
    "    # Convert text to lowercase\n",
    "    for letra in text.lower(): \n",
    "        if letra  in abecedario:\n",
    "            index = abecedario.index(letra)  # Find the index of the letter\n",
    "            frecuencia[index] += 1  # Increment the count for that letter\n",
    "\n",
    "    return frecuencia\n",
    "\n",
    "# Using an example:\n",
    "print(frequencies('The quick red fox got bored and went home.'))\n",
    "# Another example\n",
    "print(frequencies('apple'))"
   ]
  },
  {
   "cell_type": "code",
   "execution_count": null,
   "id": "7a8cec01-3697-450c-8dac-356f2e005b66",
   "metadata": {},
   "outputs": [],
   "source": []
  }
 ],
 "metadata": {
  "kernelspec": {
   "display_name": "Python 3 (ipykernel)",
   "language": "python",
   "name": "python3"
  },
  "language_info": {
   "codemirror_mode": {
    "name": "ipython",
    "version": 3
   },
   "file_extension": ".py",
   "mimetype": "text/x-python",
   "name": "python",
   "nbconvert_exporter": "python",
   "pygments_lexer": "ipython3",
   "version": "3.12.4"
  }
 },
 "nbformat": 4,
 "nbformat_minor": 5
}
